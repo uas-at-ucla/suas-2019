{
 "cells": [
  {
   "cell_type": "markdown",
   "metadata": {},
   "source": [
    "# Heading"
   ]
  },
  {
   "cell_type": "markdown",
   "metadata": {},
   "source": [
    "This notebook is for testing orientation-detecting models."
   ]
  },
  {
   "cell_type": "code",
   "execution_count": 6,
   "metadata": {},
   "outputs": [],
   "source": [
    "import numpy as np\n",
    "import cv2\n",
    "import matplotlib.pyplot as plt\n",
    "from PIL import Image\n",
    "import sys\n",
    "\n",
    "def letter_seg(path):\n",
    "    #convert image to a numpy array\n",
    "    img = Image.open(path)\n",
    "    img = img.resize((224,224))\n",
    "    img = np.array(img).astype(np.float32)\n",
    "    Z = img.reshape(224*224,3)\n",
    "\n",
    "    #use k-means to convert image to 2 colors\n",
    "    criteria = (cv2.TERM_CRITERIA_EPS + cv2.TERM_CRITERIA_MAX_ITER, 10, 1.0)\n",
    "    K = 2\n",
    "    ret,label,center=cv2.kmeans(Z,K,None,criteria,10,cv2.KMEANS_RANDOM_CENTERS)\n",
    "    center = np.uint8(center)\n",
    "    res = center[label.flatten()]\n",
    "    res2 = res.reshape((img.shape))\n",
    "\n",
    "    #convert the image to black and white\n",
    "    res2 = (res2 == res2[0,0]).astype(np.float32)\n",
    "\n",
    "    #create mask for floodfilling\n",
    "    h, w = res2.shape[:2]\n",
    "    mask = np.zeros((h+2, w+2), np.uint8)\n",
    "\n",
    "    #meant to close gaps but doesn't work well\n",
    "    #kernel = np.ones((14,14),np.uint8)\n",
    "    #res2 = cv2.morphologyEx(res2, cv2.MORPH_CLOSE, kernel)\n",
    "\n",
    "    #Floodfill from point (0, 0)\n",
    "    cv2.floodFill(res2, mask, (0,0), 0)\n",
    "    \n",
    "    return np.expand_dims(res2[:,:,0], axis=2)\n"
   ]
  },
  {
   "cell_type": "code",
   "execution_count": 7,
   "metadata": {},
   "outputs": [],
   "source": [
    "import sys\n",
    "from PIL import Image\n",
    "import numpy as np\n",
    "import cv2\n",
    "import keras.models\n",
    "sys.path.insert(0, 'segmentation')\n",
    "import segmentation.letter_seg as ls\n",
    "\n",
    "SHAPE_INDEX = [\n",
    "    'circle', 'cross', 'heptagon', 'octagon', 'pentagon', 'quarter_circle',\n",
    "    'rectangle', 'semicircle', 'star', 'trapezoid', 'triangle'\n",
    "]\n",
    "\n",
    "\n",
    "def shape_img(path):\n",
    "    img = Image.open(path)\n",
    "    img = img.resize((224, 224))\n",
    "    #img = img.reshape((224, 224))\n",
    "    img = np.array(img).astype(np.float32)\n",
    "    img = np.expand_dims(img, axis=0)\n",
    "    return img\n",
    "\n",
    "\n",
    "def letter_img(path):\n",
    "    img = ls.letter_seg(path)\n",
    "    img = cv2.resize(img, dsize=(32, 32), interpolation=cv2.INTER_LINEAR)\n",
    "    img = np.expand_dims(img, axis=2) \n",
    "    img = np.expand_dims(img, axis=0)\n",
    "    return img\n",
    "\n",
    "\n",
    "def load_model(path):\n",
    "    return keras.models.load_model(path)\n",
    "\n",
    "\n",
    "def predict(model, img):\n",
    "    return np.argmax(model.predict(img))\n",
    "\n",
    "\n",
    "def predict_shape(model, img):\n",
    "    return SHAPE_INDEX[predict(model, img)]\n",
    "\n",
    "\n",
    "def predict_letter(model, img):\n",
    "    return chr(predict(model, img) + 65)\n"
   ]
  },
  {
   "cell_type": "code",
   "execution_count": 1,
   "metadata": {},
   "outputs": [
    {
     "name": "stderr",
     "output_type": "stream",
     "text": [
      "Using TensorFlow backend.\n"
     ]
    },
    {
     "ename": "ModuleNotFoundError",
     "evalue": "No module named 'tables'",
     "output_type": "error",
     "traceback": [
      "\u001b[0;31m---------------------------------------------------------------------------\u001b[0m",
      "\u001b[0;31mModuleNotFoundError\u001b[0m                       Traceback (most recent call last)",
      "\u001b[0;32m<ipython-input-1-ba62dd3eece5>\u001b[0m in \u001b[0;36m<module>\u001b[0;34m\u001b[0m\n\u001b[1;32m      6\u001b[0m \u001b[0;32mfrom\u001b[0m \u001b[0mkeras\u001b[0m\u001b[0;34m.\u001b[0m\u001b[0moptimizers\u001b[0m \u001b[0;32mimport\u001b[0m \u001b[0mSGD\u001b[0m\u001b[0;34m\u001b[0m\u001b[0;34m\u001b[0m\u001b[0m\n\u001b[1;32m      7\u001b[0m \u001b[0;32mimport\u001b[0m \u001b[0mnumpy\u001b[0m \u001b[0;32mas\u001b[0m \u001b[0mnp\u001b[0m\u001b[0;34m\u001b[0m\u001b[0;34m\u001b[0m\u001b[0m\n\u001b[0;32m----> 8\u001b[0;31m \u001b[0;32mimport\u001b[0m \u001b[0mtables\u001b[0m\u001b[0;34m\u001b[0m\u001b[0;34m\u001b[0m\u001b[0m\n\u001b[0m",
      "\u001b[0;31mModuleNotFoundError\u001b[0m: No module named 'tables'"
     ]
    }
   ],
   "source": [
    "from keras.models import Sequential, Model\n",
    "from keras.layers import Dense, Permute, Conv2D, MaxPooling2D, Flatten, Activation, Dropout\n",
    "from keras.utils import to_categorical\n",
    "from PIL import Image\n",
    "from keras import backend as K\n",
    "from keras.optimizers import SGD\n",
    "import numpy as np\n",
    "import tables"
   ]
  },
  {
   "cell_type": "code",
   "execution_count": 8,
   "metadata": {},
   "outputs": [],
   "source": [
    "def letter_model():\n",
    "    K.set_image_data_format( 'channels_last' )\n",
    "\n",
    "    model = Sequential()\n",
    "\n",
    "    model.add(Permute((1,2, 3), input_shape=(32, 32, 1)))\n",
    "\n",
    "    model.add(Conv2D(32, kernel_size=(5,5), activation='relu', kernel_initializer='TruncatedNormal', name=\"conv1\"))\n",
    "    model.add(MaxPooling2D((2,2), strides=(2,2)))\n",
    "    model.add(Dropout(.25))\n",
    "\n",
    "    model.add(Conv2D(64, kernel_size=(5,5), activation='relu', kernel_initializer='TruncatedNormal', name=\"conv2\"))\n",
    "    model.add(MaxPooling2D((2,2), strides=(2,2)))\n",
    "    model.add(Dropout(.25))\n",
    "\n",
    "    model.add(Flatten())\n",
    "    model.add(Dense(1600, activation='relu', name='fc3'))\n",
    "    model.add(Dense(26, activation='softmax', name='fc4'))\n",
    "    \n",
    "    return model"
   ]
  },
  {
   "cell_type": "code",
   "execution_count": 9,
   "metadata": {},
   "outputs": [],
   "source": [
    "def shape_model():\n",
    "    K.set_image_data_format( 'channels_last' )\n",
    "        \n",
    "    model = Sequential()\n",
    "\n",
    "    model.add(Permute((1,2,3), input_shape=(224, 224, 3)))\n",
    "\n",
    "    model.add(Conv2D(64, kernel_size=(3,3), padding='same', activation='relu', name=\"conv1_1\"))\n",
    "    model.add(Conv2D(64, kernel_size=(3,3), padding='same', activation='relu', name=\"conv1_2\"))\n",
    "    model.add(MaxPooling2D((2,2), strides=(2,2)))\n",
    "\n",
    "    model.add(Conv2D(128, kernel_size=(3,3), padding='same', activation='relu', name=\"conv2_1\"))\n",
    "    model.add(Conv2D(128, kernel_size=(3,3), padding='same', activation='relu', name=\"conv2_2\"))\n",
    "    model.add(MaxPooling2D((2,2), strides=(2,2)))\n",
    "\n",
    "    model.add(Conv2D(256, kernel_size=(3,3), padding='same', activation='relu', name=\"conv3_1\"))\n",
    "    model.add(Conv2D(256, kernel_size=(3,3), padding='same', activation='relu', name=\"conv3_2\"))\n",
    "    model.add(Conv2D(256, kernel_size=(3,3), padding='same', activation='relu', name=\"conv3_3\"))\n",
    "    model.add(MaxPooling2D((2,2), strides=(2,2)))\n",
    "\n",
    "    model.add(Conv2D(512, kernel_size=(3,3), padding='same', activation='relu', name=\"conv4_1\"))\n",
    "    model.add(Conv2D(512, kernel_size=(3,3), padding='same', activation='relu', name=\"conv4_2\"))\n",
    "    model.add(Conv2D(512, kernel_size=(3,3), padding='same', activation='relu', name=\"conv4_3\"))\n",
    "    model.add(MaxPooling2D((2,2), strides=(2,2)))\n",
    "\n",
    "    model.add(Conv2D(512, kernel_size=(3,3), padding='same', activation='relu', name=\"conv5_1\"))\n",
    "    model.add(Conv2D(512, kernel_size=(3,3), padding='same', activation='relu', name=\"conv5_2\"))\n",
    "    model.add(Conv2D(512, kernel_size=(3,3), padding='same', activation='relu', name=\"conv5_3\"))\n",
    "    model.add(MaxPooling2D((2,2), strides=(2,2)))\n",
    "    \n",
    "    model.add(Conv2D(4096, kernel_size=(7,7), activation='relu', name='fc6'))\n",
    "    model.add(Conv2D(4096, kernel_size=(1,1), activation='relu', name='fc7'))\n",
    "    model.add(Conv2D(11, kernel_size=(1,1),  name='fc8'))\n",
    "    model.add(Flatten())\n",
    "    model.add( Activation('softmax') )\n",
    "    \n",
    "    return model"
   ]
  },
  {
   "cell_type": "code",
   "execution_count": 10,
   "metadata": {},
   "outputs": [],
   "source": [
    "def process_data(data_path, type=\"\"):\n",
    "    if type == \"\":\n",
    "        raise ValueError('Please input the type of data (shape or letter)')\n",
    "    \n",
    "    label_size = {\"shape\": 11, \"letter\": 26}\n",
    "    \n",
    "    f = tables.open_file(data_path, mode='r')\n",
    "\n",
    "    x_train = f.root.train_input[()]\n",
    "    y_train = f.root.train_labels[()]\n",
    "\n",
    "    x_test = f.root.test_input[()]\n",
    "    y_test = f.root.test_labels[()]\n",
    "\n",
    "    f.close()\n",
    "\n",
    "    y_train = to_categorical(y_train, label_size[type])\n",
    "    y_test = to_categorical(y_test, label_size[type])\n",
    "\n",
    "    return x_train, y_train, x_test, y_test"
   ]
  },
  {
   "cell_type": "code",
   "execution_count": 11,
   "metadata": {},
   "outputs": [],
   "source": [
    "def train(model, x_train, y_train, x_test, y_test, nEpochs=10, nBatch=32, model_name=\"model\"):\n",
    "    \n",
    "    sgd = SGD(lr=0.0001)\n",
    "    model.compile(optimizer=sgd, loss='categorical_crossentropy', metrics=['accuracy'])\n",
    "    model.fit(x=x_train, y=y_train, batch_size=nBatch, epochs=nEpochs, verbose=1)\n",
    "    model.evaluate(x=x_test, y=y_test, verbose=1)\n",
    "    model.save(model_name + '.hdf5')\n",
    "    return model"
   ]
  },
  {
   "cell_type": "code",
   "execution_count": 12,
   "metadata": {},
   "outputs": [],
   "source": [
    "def process_letter(addr):\n",
    "    img = Image.open(addr).convert('L')\n",
    "    img = img.reshape((32,32))\n",
    "    img = np.array(img).astype(np.float32)\n",
    "    img = np.expand_dims(img, axis=0)\n",
    "    img = np.expand_dims(img, axis=3)\n",
    "    \n",
    "    return img"
   ]
  },
  {
   "cell_type": "code",
   "execution_count": 13,
   "metadata": {},
   "outputs": [],
   "source": [
    "def process_shape(addr):\n",
    "    img = Image.open(addr).convert('L')\n",
    "    img = img.reshape((224,224))\n",
    "    img = np.array(img).astype(np.float32)\n",
    "    img = np.expand_dims(img, axis=0)"
   ]
  },
  {
   "cell_type": "code",
   "execution_count": 14,
   "metadata": {},
   "outputs": [],
   "source": [
    "def predict(model, img):\n",
    "    \n",
    "    return model.predict(img)"
   ]
  },
  {
   "cell_type": "code",
   "execution_count": 15,
   "metadata": {},
   "outputs": [
    {
     "name": "stdout",
     "output_type": "stream",
     "text": [
      "hello!\n",
      "/Users/Andy/Andy/Undergrad/Year_1/uas/drone_code/src/vision/classifier\n"
     ]
    }
   ],
   "source": [
    "import os\n",
    "print(\"hello!\")\n",
    "print(os.getcwd())"
   ]
  },
  {
   "cell_type": "code",
   "execution_count": null,
   "metadata": {},
   "outputs": [],
   "source": []
  },
  {
   "cell_type": "code",
   "execution_count": null,
   "metadata": {},
   "outputs": [],
   "source": []
  }
 ],
 "metadata": {
  "kernelspec": {
   "display_name": "Python 3",
   "language": "python",
   "name": "python3"
  },
  "language_info": {
   "codemirror_mode": {
    "name": "ipython",
    "version": 3
   },
   "file_extension": ".py",
   "mimetype": "text/x-python",
   "name": "python",
   "nbconvert_exporter": "python",
   "pygments_lexer": "ipython3",
   "version": "3.6.7"
  }
 },
 "nbformat": 4,
 "nbformat_minor": 2
}
